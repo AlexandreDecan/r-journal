{
 "cells": [
  {
   "cell_type": "code",
   "execution_count": 1,
   "metadata": {
    "collapsed": false
   },
   "outputs": [],
   "source": [
    "import os\n",
    "import subprocess\n",
    "import glob\n",
    "import re\n",
    "import collections\n",
    "\n",
    "from bs4 import BeautifulSoup as bs"
   ]
  },
  {
   "cell_type": "code",
   "execution_count": 2,
   "metadata": {
    "collapsed": true
   },
   "outputs": [],
   "source": [
    "PDF_PATH = 'pdf'\n",
    "XML_PATH = 'xml'\n",
    "OUTPUT_PATH = 'output'"
   ]
  },
  {
   "cell_type": "code",
   "execution_count": 3,
   "metadata": {
    "collapsed": false
   },
   "outputs": [],
   "source": [
    "input_files = glob.glob(os.path.join(PDF_PATH, '*.pdf'))\n",
    "\n",
    "# Convert to XML\n",
    "for input_file in input_files:\n",
    "    filename = input_file.rsplit('/')[1][:-4]\n",
    "    cmd = ['pdftohtml', '-s', '-i', '-xml', input_file, os.path.join(XML_PATH, filename + '.xml')]\n",
    "    state = subprocess.check_call(cmd)\n",
    "    if state != 0:\n",
    "        print 'Failure:', ' '.join(cmd)"
   ]
  },
  {
   "cell_type": "code",
   "execution_count": 22,
   "metadata": {
    "collapsed": false
   },
   "outputs": [
    {
     "name": "stdout",
     "output_type": "stream",
     "text": [
      "finished ^^\n"
     ]
    }
   ],
   "source": [
    "xml_files = glob.glob(os.path.join(XML_PATH, '*.xml'))\n",
    "\n",
    "for xml_file in xml_files:\n",
    "    filename = xml_file.rsplit('/')[1][:-4]\n",
    "    \n",
    "    soup = bs(open(xml_file), 'html.parser')\n",
    "    \n",
    "    # Guess code properties: seek for line starting with R code\n",
    "    font, height = [], []\n",
    "    for item in soup.find_all('text', text=re.compile(r'^(> )?(#|(library)|(plot)|(summary))')):\n",
    "        font.append(item['font'])\n",
    "        height.append(item['height'])\n",
    "    try:\n",
    "        font = collections.Counter(font).most_common(1)[0][0]\n",
    "        height = collections.Counter(height).most_common(1)[0][0]\n",
    "    except IndexError as e:\n",
    "        font, height = 4, 18\n",
    "    \n",
    "    # Multicolumn?\n",
    "    page_width = int(soup('page')[0]['width'])\n",
    "    \n",
    "    left, right = [], []\n",
    "    for item in soup('text'):\n",
    "        x = int(item['left'])\n",
    "        if x >= page_width / 3:\n",
    "            right.append(x)\n",
    "        else:\n",
    "            left.append(x)\n",
    "    # If left and right are \"comparable\", we have a multicolumn page\n",
    "    if len(right) * 0.5 < len(left) < len(right) * 1.5:\n",
    "        multicolumn = True\n",
    "        # Compute the \"middle point\" using most frequent right value\n",
    "        multicolumn_sep = collections.Counter(right).most_common(1)[0][0]\n",
    "    else:\n",
    "        multicolumn = False\n",
    "        multicolumn_sep = 0\n",
    "    \n",
    "    # Get the boxes\n",
    "    pages = []\n",
    "    for page in soup('page'):\n",
    "        current_page = []\n",
    "        for box in page('text'):\n",
    "            current_page.append(box)\n",
    "        pages.append(current_page)\n",
    "        \n",
    "    # Find interesting boxes, sorted by page/top\n",
    "    done = set()\n",
    "    code = []\n",
    "    for i, page in enumerate(pages):\n",
    "        for box in page:\n",
    "            if box['font'] == font and box['height'] == height and box not in done:\n",
    "                # Check colliding boxes\n",
    "                concatenated_box = []\n",
    "                keep_it = True\n",
    "                \n",
    "                for other_box in page:\n",
    "                    # Filter boxes on the same arbitrary level\n",
    "                    \n",
    "                    if multicolumn and int(box['width']) < multicolumn_sep:\n",
    "                        if int(box['left']) < multicolumn_sep:\n",
    "                            multicol_bool = int(other_box['left']) < multicolumn_sep\n",
    "                        else:\n",
    "                            multicol_bool = int(other_box['left']) >= multicolumn_sep\n",
    "                    else:\n",
    "                        multicol_bool = True\n",
    "                    \n",
    "                    if multicol_bool and int(box['top']) - 10 <= int(other_box['top']) <= int(box['top']) + 10:\n",
    "                        if other_box['font'] == font and other_box['height'] == height and box['top'] == other_box['top']:\n",
    "                            if other_box not in done:\n",
    "                                concatenated_box.append(other_box)\n",
    "                        else:\n",
    "                            keep_it = False\n",
    "                            break\n",
    "                \n",
    "                if keep_it:\n",
    "                    for other_box in concatenated_box:\n",
    "                        done.add(other_box)\n",
    "                    sorted_boxes = sorted(concatenated_box, key=lambda x: int(x['left']))\n",
    "                    code_item = (i+1, box['left'], box['top'], ' '.join([x.text for x in sorted_boxes]))\n",
    "                    code.append(code_item)\n",
    "    if len(code) > 0:\n",
    "        f = open(os.path.join(OUTPUT_PATH, filename+'.txt'), 'w')\n",
    "        s = '\\n'.join([u'{0[0]}\\t{0[1]}\\t{0[2]}\\t{0[3]}'.format(c) for c in code])\n",
    "        f.write('page\\tleft\\ttop\\tcode\\n')\n",
    "        f.write(s.encode('utf-8'))\n",
    "        f.close()\n",
    "    \n",
    "print 'finished ^^'    "
   ]
  },
  {
   "cell_type": "code",
   "execution_count": null,
   "metadata": {
    "collapsed": false
   },
   "outputs": [],
   "source": []
  }
 ],
 "metadata": {
  "kernelspec": {
   "display_name": "Python 2",
   "language": "python",
   "name": "python2"
  },
  "language_info": {
   "codemirror_mode": {
    "name": "ipython",
    "version": 2
   },
   "file_extension": ".py",
   "mimetype": "text/x-python",
   "name": "python",
   "nbconvert_exporter": "python",
   "pygments_lexer": "ipython2",
   "version": "2.7.10"
  }
 },
 "nbformat": 4,
 "nbformat_minor": 0
}

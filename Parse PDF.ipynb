{
 "cells": [
  {
   "cell_type": "code",
   "execution_count": 9,
   "metadata": {
    "collapsed": false
   },
   "outputs": [],
   "source": [
    "import os\n",
    "import subprocess\n",
    "import glob\n",
    "import re\n",
    "import collections\n",
    "import math\n",
    "\n",
    "from bs4 import BeautifulSoup as bs"
   ]
  },
  {
   "cell_type": "code",
   "execution_count": 10,
   "metadata": {
    "collapsed": true
   },
   "outputs": [],
   "source": [
    "PDF_PATH = 'pdf'\n",
    "XML_PATH = 'xml'\n",
    "OUTPUT_PATH = 'output'\n",
    "\n",
    "SKIP_CONVERT = True"
   ]
  },
  {
   "cell_type": "code",
   "execution_count": 11,
   "metadata": {
    "collapsed": false
   },
   "outputs": [],
   "source": [
    "if not SKIP_CONVERT:\n",
    "    # All the available PDF files\n",
    "    input_files = glob.glob(os.path.join(PDF_PATH, '*.pdf'))\n",
    "    \n",
    "    # Convert to XML\n",
    "    for input_file in input_files:\n",
    "        filename = input_file.rsplit('/')[1][:-4]\n",
    "        cmd = ['pdftohtml', '-s', '-i', '-xml', input_file, os.path.join(XML_PATH, filename + '.xml')]\n",
    "        state = subprocess.check_call(cmd)\n",
    "        if state != 0:\n",
    "            print 'Failure:', ' '.join(cmd)"
   ]
  },
  {
   "cell_type": "code",
   "execution_count": 13,
   "metadata": {
    "collapsed": false
   },
   "outputs": [
    {
     "name": "stdout",
     "output_type": "stream",
     "text": [
      "finished ^^\n"
     ]
    }
   ],
   "source": [
    "# All the available XML files\n",
    "xml_files = glob.glob(os.path.join(XML_PATH, '*.xml'))\n",
    "\n",
    "for xml_file in xml_files:\n",
    "    filename = xml_file.rsplit('/')[1][:-4]\n",
    "    \n",
    "    # Parser initialization\n",
    "    soup = bs(open(xml_file), 'html.parser')\n",
    "    \n",
    "    # Guess code properties: seek for line starting with R code to deduce\n",
    "    # what is the font number and box height that we need to consider\n",
    "    font, height = [], []\n",
    "    for item in soup.find_all('text', text=re.compile(r'^(> )?(#|(library)|(plot)|(summary))')):\n",
    "        font.append(item['font'])\n",
    "        height.append(item['height'])\n",
    "    try:\n",
    "        font = collections.Counter(font).most_common(1)[0][0]\n",
    "        height = collections.Counter(height).most_common(1)[0][0]\n",
    "    except IndexError as e:\n",
    "        # Default if nothing appropriate is found\n",
    "        font, height = 4, 18\n",
    "    \n",
    "    # Multi-column detection: count the number of boxes that are on the \n",
    "    # \"right\" part of the page (starting from 2/3 * width).\n",
    "    page_width = int(soup('page')[0]['width'])\n",
    "    \n",
    "    left, right = [], []\n",
    "    for item in soup('text'):\n",
    "        x = int(item['left'])\n",
    "        if x >= page_width / 3:\n",
    "            right.append(x)\n",
    "        else:\n",
    "            left.append(x)\n",
    "            \n",
    "    # If left and right are \"quite comparable\", assume we have a multicolumns layout\n",
    "    if len(right) * 0.5 < len(left) < len(right) * 1.5:\n",
    "        multicolumn = True\n",
    "        # Compute the \"middle point\" using most frequent right value\n",
    "        # This position will be used to split the page into two columns\n",
    "        left = collections.Counter(left).most_common(1)[0][0]\n",
    "        right = collections.Counter(right).most_common(1)[0][0]\n",
    "    else:\n",
    "        multicolumn = False\n",
    "        left = right = collections.Counter(left).most_common(1)[0][0]\n",
    "    \n",
    "    # Get the all the boxes for all the pages\n",
    "    pages = []\n",
    "    for page in soup('page'):\n",
    "        current_page = []\n",
    "        for box in page('text'):\n",
    "            current_page.append(box)\n",
    "        pages.append(current_page)\n",
    "        \n",
    "    \n",
    "    # We go on with every box. If a box has the same properties than font/height, then it is\n",
    "    # probably a code box. To check that, we verify if, on the same line (+/- margin) in the\n",
    "    # same column, there is no other box that contains simple text. \n",
    "    done = set()  # Set of already considered boxes\n",
    "    code = []  # Set of tuples (page, left, top, line_of_code)\n",
    "    for i, page in enumerate(pages):\n",
    "        for box in page:\n",
    "            # Is this box an interesting one?\n",
    "            if box['font'] == font and box['height'] == height and box not in done:\n",
    "                concatenated_box = []  # List of box on the same line +/- margin\n",
    "                keep_it = True  # Do we keep the current box?\n",
    "                \n",
    "                for other_box in page:\n",
    "                    # If multicolumn, check in which side of the page we are\n",
    "                    if multicolumn and int(box['width']) < right:\n",
    "                        if int(box['left']) < multicolumn_sep:\n",
    "                            multicol_bool = int(other_box['left']) < right\n",
    "                        else:\n",
    "                            multicol_bool = int(other_box['left']) >= right\n",
    "                    else:\n",
    "                        multicol_bool = True\n",
    "                    \n",
    "                    # Is other_box on the same line (+/- margin) in the same column?\n",
    "                    if multicol_bool and int(box['top']) - 10 <= int(other_box['top']) <= int(box['top']) + 10:\n",
    "                        if other_box['font'] == font and other_box['height'] == height and box['top'] == other_box['top']:\n",
    "                            if other_box not in done:\n",
    "                                # else assert False ?\n",
    "                                concatenated_box.append(other_box)\n",
    "                        else:\n",
    "                            keep_it = False\n",
    "                            break\n",
    "                \n",
    "                # The current box was not rejected, so we concatenate the texts\n",
    "                if keep_it:\n",
    "                    for other_box in concatenated_box:\n",
    "                        done.add(other_box)\n",
    "                    sorted_boxes = sorted(concatenated_box, key=lambda x: int(x['left']))\n",
    "                    \n",
    "                    # Spacing solution\n",
    "                    last_box = None\n",
    "                    line_of_code = []\n",
    "                    try:\n",
    "                        char_width = float(box['width']) / float(len(box.text))\n",
    "                    except ZeroDivisionError:\n",
    "                        char_width = 0\n",
    "                    \n",
    "                    for current_box in sorted_boxes:\n",
    "                        if last_box:\n",
    "                            margin = int(last_box['left']) + int(last_box['width'])\n",
    "                        else:\n",
    "                            # First box on the line, do we need initial spacing?\n",
    "                            if multicolumn and int(current_box['left']) >= right:\n",
    "                                margin = right\n",
    "                            else:\n",
    "                                margin = left\n",
    "                        # Distance between current box and the margin\n",
    "                        spacing = int(current_box['left']) - margin\n",
    "                        # Number of spaces\n",
    "                        try:\n",
    "                            spaces = int(math.ceil(spacing / char_width))\n",
    "                        except ZeroDivisionError:\n",
    "                            spaces = 0\n",
    "                        # Fill\n",
    "                        line_of_code.append(' ' * spaces)    \n",
    "                        line_of_code.append(current_box.text)\n",
    "                        last_box = current_box\n",
    "                    code_item = (i+1, box['left'], box['top'], ''.join(line_of_code))\n",
    "                    code.append(code_item)\n",
    "                    \n",
    "    # If we have some code, output it!\n",
    "    if len(code) > 0:\n",
    "        f = open(os.path.join(OUTPUT_PATH, filename+'.txt'), 'w')\n",
    "        s = '\\n'.join([u'{0[0]}\\t{0[1]}\\t{0[2]}\\t{0[3]}'.format(c) for c in code])\n",
    "        f.write('page\\tleft\\ttop\\tcode\\n')\n",
    "        f.write(s.encode('utf-8'))\n",
    "        f.close()\n",
    "    \n",
    "print 'finished ^^'    "
   ]
  },
  {
   "cell_type": "code",
   "execution_count": null,
   "metadata": {
    "collapsed": false
   },
   "outputs": [],
   "source": []
  }
 ],
 "metadata": {
  "kernelspec": {
   "display_name": "Python 2",
   "language": "python",
   "name": "python2"
  },
  "language_info": {
   "codemirror_mode": {
    "name": "ipython",
    "version": 2
   },
   "file_extension": ".py",
   "mimetype": "text/x-python",
   "name": "python",
   "nbconvert_exporter": "python",
   "pygments_lexer": "ipython2",
   "version": "2.7.10"
  }
 },
 "nbformat": 4,
 "nbformat_minor": 0
}

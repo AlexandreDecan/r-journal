{
 "cells": [
  {
   "cell_type": "code",
   "execution_count": 69,
   "metadata": {
    "collapsed": false
   },
   "outputs": [],
   "source": [
    "from bs4 import BeautifulSoup as bs\n",
    "import requests\n",
    "import shutil\n",
    "import os"
   ]
  },
  {
   "cell_type": "code",
   "execution_count": 70,
   "metadata": {
    "collapsed": true
   },
   "outputs": [],
   "source": [
    "OUTPUT_PATH = 'pdf'\n",
    "\n",
    "BASE_URL = 'http://journal.r-project.org/archive/{year}-{issue}/'\n",
    "YEARS = range(2009, 2016)\n",
    "ISSUES = [1, 2]\n",
    "\n",
    "FILE_FORMAT = '{year}-{issue}-{pdf}.pdf'\n",
    "\n",
    "HEADERS = [x.lower() for x in ('Contributed research articles', 'News and notes')]"
   ]
  },
  {
   "cell_type": "code",
   "execution_count": 71,
   "metadata": {
    "collapsed": false
   },
   "outputs": [
    {
     "name": "stdout",
     "output_type": "stream",
     "text": [
      "Starting issue n°1 for 2009\n",
      "Starting issue n°2 for 2009\n",
      "Error while downloading ConvergenceConcepts: an R Package to Investigate-Various-Modes-of-Convergence: 404\n",
      "Starting issue n°1 for 2010\n",
      "Starting issue n°2 for 2010\n",
      "Error while downloading cudaBayesreg: Bayesian Computation in CUDA: 404\n",
      "Starting issue n°1 for 2011\n",
      "Starting issue n°2 for 2011\n",
      "Starting issue n°1 for 2012\n",
      "Error while downloading Analysing Seasonal Data: 404\n",
      "Starting issue n°2 for 2012\n",
      "Error while downloading frailtyHL: A Package for Fitting Frailty Models with H-likelihood: 404\n",
      "Starting issue n°1 for 2013\n",
      "Starting issue n°2 for 2013\n",
      "Starting issue n°1 for 2014\n",
      "Starting issue n°2 for 2014\n",
      "Starting issue n°1 for 2015\n",
      "Starting issue n°2 for 2015\n"
     ]
    }
   ],
   "source": [
    "for year in YEARS:\n",
    "    for issue in ISSUES:\n",
    "        print 'Starting issue n°{} for {}'.format(issue, year)\n",
    "        r = requests.get(BASE_URL.format(year=year, issue=issue))\n",
    "        soup = bs(r.content, 'html.parser')\n",
    "        \n",
    "        for p in soup('p', class_='article'):\n",
    "            first_h2 = p.find_previous('h2')\n",
    "            first_h3 = p.find_previous('h3')\n",
    "            if (first_h2 and first_h2.text.lower() in HEADERS) or (first_h3 and first_h3.text.lower() in HEADERS):\n",
    "                a = p('a')[0]\n",
    "                r = requests.get(BASE_URL.format(year=year, issue=issue) + a['href'], stream=True)\n",
    "                if r.status_code == 200:\n",
    "                    path = os.path.join(OUTPUT_PATH, FILE_FORMAT.format(year=year, issue=issue, title=a.text.strip(), pdf=a['href'][:-4]))\n",
    "                    with open(path, 'wb') as f:\n",
    "                        r.raw.decode_content = True\n",
    "                        shutil.copyfileobj(r.raw, f)\n",
    "                else:\n",
    "                    print 'Error while downloading {}: {}'.format(a.text.strip(), r.status_code)"
   ]
  }
 ],
 "metadata": {
  "kernelspec": {
   "display_name": "Python 2",
   "language": "python",
   "name": "python2"
  },
  "language_info": {
   "codemirror_mode": {
    "name": "ipython",
    "version": 2
   },
   "file_extension": ".py",
   "mimetype": "text/x-python",
   "name": "python",
   "nbconvert_exporter": "python",
   "pygments_lexer": "ipython2",
   "version": "2.7.10"
  }
 },
 "nbformat": 4,
 "nbformat_minor": 0
}
